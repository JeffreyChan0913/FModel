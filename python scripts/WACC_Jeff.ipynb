{
 "cells": [
  {
   "cell_type": "code",
   "execution_count": 5,
   "id": "672fe483-8f4e-499a-aa15-338f945f1bb6",
   "metadata": {},
   "outputs": [
    {
     "name": "stdout",
     "output_type": "stream",
     "text": [
      "NVDA 2024 wacc: 11.23%\n"
     ]
    }
   ],
   "source": [
    "import yfinance as yf\n",
    "import pandas as pd\n",
    "import warnings\n",
    "warnings.filterwarnings(\"ignore\")\n",
    "pd.set_option('display.max_rows', None)\n",
    "\n",
    "ticker = \"NVDA\"\n",
    "nvda = yf.Ticker(ticker)\n",
    "# mean( get.current.return('^GSPC', startDate, endDate), na.rm=T ) * 252\n",
    "# [1] 0.1032009\n",
    "sp500Annualret = 0.1032009\n",
    "riskFreeRate2024 = 0.0458\n",
    "costOfEquity = riskFreeRate2024 + nvda.info['beta'] * (sp500Annualret - riskFreeRate2024)\n",
    "totalDebt = nvda.info['totalDebt']\n",
    "equipty = nvda.balancesheet.loc[\"Total Assets\"][1] - nvda.balancesheet.loc[\"Current Liabilities\"][1] - nvda.balancesheet.loc[\"Other Current Liabilities\"][1]\n",
    "totalValue = equipty + totalDebt\n",
    "interest = nvda.financials.loc[\"Interest Expense\"][0]\n",
    "sp500Annualret = 0.1032009\n",
    "riskFreeRate2024 = 0.0458\n",
    "costOfEquity = riskFreeRate2024 + nvda.info['beta'] * (sp500Annualret - riskFreeRate2024)\n",
    "interestRate = interest / totalDebt\n",
    "taxRate2024 = nvda.financials.loc[\"Tax Provision\"][0] / nvda.financials.loc[\"Pretax Income\"][0]\n",
    "costOfDebt = interestRate \n",
    "WACC = ( ( equipty / totalValue ) * costOfEquity ) + ( (totalDebt / totalValue ) * costOfDebt * ( 1 - taxRate2024 ) )\n",
    "print(f\"{ticker} 2024 wacc: {WACC:.2%}\")"
   ]
  }
 ],
 "metadata": {
  "kernelspec": {
   "display_name": "Python 3 (ipykernel)",
   "language": "python",
   "name": "python3"
  },
  "language_info": {
   "codemirror_mode": {
    "name": "ipython",
    "version": 3
   },
   "file_extension": ".py",
   "mimetype": "text/x-python",
   "name": "python",
   "nbconvert_exporter": "python",
   "pygments_lexer": "ipython3",
   "version": "3.11.9"
  }
 },
 "nbformat": 4,
 "nbformat_minor": 5
}
