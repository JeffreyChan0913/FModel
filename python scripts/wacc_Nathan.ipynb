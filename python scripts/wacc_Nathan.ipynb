{
 "cells": [
  {
   "cell_type": "code",
   "execution_count": 1,
   "metadata": {},
   "outputs": [
    {
     "name": "stdout",
     "output_type": "stream",
     "text": [
      "Warning - Certain functionality \n",
      "             requires requests_html, which is not installed.\n",
      "             \n",
      "             Install using: \n",
      "             pip install requests_html\n",
      "             \n",
      "             After installation, you may have to restart your Python session.\n"
     ]
    }
   ],
   "source": [
    "import yfinance as yf\n",
    "import yahoo_fin.stock_info as si\n",
    "import pandas as pd\n",
    "import numpy as np\n",
    "import matplotlib.pyplot as plt\n",
    "import warnings\n",
    "warnings.filterwarnings(\"ignore\")\n",
    "pd.set_option('display.max_rows', None)"
   ]
  },
  {
   "cell_type": "code",
   "execution_count": 2,
   "metadata": {},
   "outputs": [],
   "source": [
    "ticker = \"NVDA\"\n",
    "nvda = yf.Ticker(ticker)\n",
    "# mean( get.current.return('^GSPC', startDate, endDate), na.rm=T ) * 252\n",
    "# [1] 0.1032009\n",
    "sp500Annualret = 0.1032009\n",
    "riskFreeRate2024 = 0.0458"
   ]
  },
  {
   "cell_type": "code",
   "execution_count": 29,
   "metadata": {},
   "outputs": [
    {
     "name": "stdout",
     "output_type": "stream",
     "text": [
      "NVDA 2024 wacc: 14.18%\n"
     ]
    }
   ],
   "source": [
    "costOfEquity = riskFreeRate2024 + nvda.info['beta'] * (sp500Annualret - riskFreeRate2024)\n",
    "totalDebt = nvda.info['totalDebt']\n",
    "marketCap = nvda.info['marketCap']\n",
    "totalValue = marketCap + totalDebt\n",
    "nvdaFinancialStatement = nvda.financials\n",
    "interest = nvdaFinancialStatement.loc[\"Interest Expense\"][0]\n",
    "costOfEquity = riskFreeRate2024 + nvda.info['beta'] * (sp500Annualret - riskFreeRate2024)\n",
    "interestRate = interest / totalDebt\n",
    "taxRate2024 = nvdaFinancialStatement.loc[\"Tax Provision\"][0] / nvdaFinancialStatement.loc[\"Pretax Income\"][0]\n",
    "costOfDebt = interestRate \n",
    "WACC = ( ( marketCap / totalValue ) * costOfEquity ) + ( (totalDebt / totalValue ) * costOfDebt * ( 1 - taxRate2024 ) )\n",
    "print(f\"{ticker} 2024 wacc: {WACC:.2%}\")"
   ]
  },
  {
   "cell_type": "code",
   "execution_count": 79,
   "metadata": {},
   "outputs": [
    {
     "data": {
      "text/html": [
       "<div>\n",
       "<style scoped>\n",
       "    .dataframe tbody tr th:only-of-type {\n",
       "        vertical-align: middle;\n",
       "    }\n",
       "\n",
       "    .dataframe tbody tr th {\n",
       "        vertical-align: top;\n",
       "    }\n",
       "\n",
       "    .dataframe thead th {\n",
       "        text-align: right;\n",
       "    }\n",
       "</style>\n",
       "<table border=\"1\" class=\"dataframe\">\n",
       "  <thead>\n",
       "    <tr style=\"text-align: right;\">\n",
       "      <th></th>\n",
       "    </tr>\n",
       "  </thead>\n",
       "  <tbody>\n",
       "  </tbody>\n",
       "</table>\n",
       "</div>"
      ],
      "text/plain": [
       "Empty DataFrame\n",
       "Columns: []\n",
       "Index: []"
      ]
     },
     "execution_count": 79,
     "metadata": {},
     "output_type": "execute_result"
    }
   ],
   "source": [
    "Tick = yf.Ticker(\"GLD\")\n",
    "Tick.cash_flow\n"
   ]
  },
  {
   "cell_type": "code",
   "execution_count": 7,
   "metadata": {},
   "outputs": [],
   "source": [
    "def getWACC(ticker, riskFreeRate2024 = 0.0458, sp500Annualret = 0.1032009):\n",
    "    \"\"\" Calculate the Weighted Average Cost of Capital (WACC) for a company.\n",
    "    Args:\n",
    "        ticker (str): string of company ticker\n",
    "        riskFreeRate2024 (float): risk free rate in 2024\n",
    "        sp500Annualret (float): Annual returns from sp500. Defaults to 0.1032009.\n",
    "    Returns:\n",
    "        float: WACC\n",
    "    \"\"\"\n",
    "\n",
    "    Tick = yf.Ticker(ticker)\n",
    "\n",
    "    try:\n",
    "        costOfEquity = riskFreeRate2024 + Tick.info['beta'] * (sp500Annualret - riskFreeRate2024)\n",
    "        FinancialStatement = Tick.financials\n",
    "        totalDebt = Tick.info['totalDebt']\n",
    "        marketCap = Tick.info['marketCap']\n",
    "\n",
    "        totalValue = marketCap + totalDebt\n",
    "        interest = FinancialStatement.loc[\"Interest Expense\"][0]\n",
    "        costOfEquity = riskFreeRate2024 + Tick.info['beta'] * (sp500Annualret - riskFreeRate2024)\n",
    "        interestRate = interest / totalDebt\n",
    "        taxRate2024 = FinancialStatement.loc[\"Tax Provision\"][0] / FinancialStatement.loc[\"Pretax Income\"][0]\n",
    "\n",
    "        costOfDebt = interestRate \n",
    "        WACC = ( ( marketCap / totalValue ) * costOfEquity ) + ( (totalDebt / totalValue ) * costOfDebt * ( 1 - taxRate2024 ) )\n",
    "        return WACC\n",
    "    except: \n",
    "        return None"
   ]
  },
  {
   "cell_type": "code",
   "execution_count": 4,
   "metadata": {},
   "outputs": [
    {
     "data": {
      "text/plain": [
       "0.11474299012837469"
      ]
     },
     "execution_count": 4,
     "metadata": {},
     "output_type": "execute_result"
    }
   ],
   "source": [
    "getWACC('AAPL')"
   ]
  },
  {
   "cell_type": "code",
   "execution_count": 9,
   "metadata": {},
   "outputs": [
    {
     "name": "stdout",
     "output_type": "stream",
     "text": [
      "NVDA\n",
      "AMD\n",
      "TSM\n",
      "ASML\n",
      "MU\n",
      "AMAT\n",
      "GOOG\n",
      "AAPL\n",
      "META\n",
      "TSLA\n",
      "DUK\n",
      "GLD\n",
      "X\n",
      "PG\n",
      "TLT\n",
      "CVS\n",
      "VGIT\n",
      "GOVT\n"
     ]
    }
   ],
   "source": [
    "tickers = [\"NVDA\", \"AMD\", \"TSM\", \"ASML\", \"MU\", \"AMAT\",\n",
    "        \"GOOG\", \"AAPL\", \"META\", \"TSLA\", \"DUK\",\n",
    "        \"GLD\", \"X\", \"PG\", \"TLT\",\"CVS\", \"VGIT\", \"GOVT\"]\n",
    "\n",
    "wacc_list = []\n",
    "\n",
    "for ticker in tickers:\n",
    "    print(ticker)\n",
    "    wacc = getWACC(ticker)\n",
    "    wacc_list.append(wacc)\n",
    "\n",
    "pd.DataFrame({\"Ticker\": tickers,\n",
    "              \"wacc\": wacc_list}).to_csv(\"wacc_list.csv\")"
   ]
  }
 ],
 "metadata": {
  "kernelspec": {
   "display_name": "personal_py312",
   "language": "python",
   "name": "python3"
  },
  "language_info": {
   "codemirror_mode": {
    "name": "ipython",
    "version": 3
   },
   "file_extension": ".py",
   "mimetype": "text/x-python",
   "name": "python",
   "nbconvert_exporter": "python",
   "pygments_lexer": "ipython3",
   "version": "3.12.4"
  }
 },
 "nbformat": 4,
 "nbformat_minor": 2
}
